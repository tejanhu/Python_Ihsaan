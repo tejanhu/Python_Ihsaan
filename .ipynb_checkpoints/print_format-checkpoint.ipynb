{
 "cells": [
  {
   "cell_type": "code",
   "execution_count": 3,
   "metadata": {},
   "outputs": [
    {
     "name": "stdout",
     "output_type": "stream",
     "text": [
      "Here comes The Men In Black.\n"
     ]
    }
   ],
   "source": [
    "print(\"Here comes {} {} {} {}\".format(\"The\", \"Men\", \"In\", \"Black.\"))"
   ]
  },
  {
   "cell_type": "code",
   "execution_count": 21,
   "metadata": {},
   "outputs": [
    {
     "name": "stdout",
     "output_type": "stream",
     "text": [
      "Bad Boys What You Gonna Do. What You Gonna Do. When They Come For You.\n"
     ]
    }
   ],
   "source": [
    "print(\"Bad Boys {3} {0} {1} {2}\".format(\"You\", \"Gonna\", \"Do.\", \"What\") + \" {3} {0} {1} {2}\".format(\"You\", \"Gonna\", \"Do.\", \"What\") + \" When They Come For You.\")"
   ]
  },
  {
   "cell_type": "code",
   "execution_count": 29,
   "metadata": {},
   "outputs": [
    {
     "name": "stdout",
     "output_type": "stream",
     "text": [
      "Shukran Ya Rabbi Shukran\n"
     ]
    }
   ],
   "source": [
    "print(\"Shukran {1} {0} Shukran\".format(\"Rabbi\", \"Ya\"))"
   ]
  },
  {
   "cell_type": "code",
   "execution_count": 32,
   "metadata": {},
   "outputs": [
    {
     "name": "stdout",
     "output_type": "stream",
     "text": [
      "#000 #FFF\n"
     ]
    }
   ],
   "source": [
    "print(\"{black} {white}\".format(black=\"#000\", white=\"#FFF\"))"
   ]
  },
  {
   "cell_type": "code",
   "execution_count": 49,
   "metadata": {},
   "outputs": [],
   "source": [
    "res = 188/152"
   ]
  },
  {
   "cell_type": "code",
   "execution_count": 50,
   "metadata": {},
   "outputs": [
    {
     "data": {
      "text/plain": [
       "1.236842105263158"
      ]
     },
     "execution_count": 50,
     "metadata": {},
     "output_type": "execute_result"
    }
   ],
   "source": [
    "res"
   ]
  },
  {
   "cell_type": "code",
   "execution_count": 52,
   "metadata": {},
   "outputs": [
    {
     "name": "stdout",
     "output_type": "stream",
     "text": [
      "The result was 1.24\n"
     ]
    }
   ],
   "source": [
    "print(\"The result was {r:1.2f}\".format(r=res))"
   ]
  },
  {
   "cell_type": "code",
   "execution_count": null,
   "metadata": {},
   "outputs": [],
   "source": []
  }
 ],
 "metadata": {
  "kernelspec": {
   "display_name": "Python 3",
   "language": "python",
   "name": "python3"
  },
  "language_info": {
   "codemirror_mode": {
    "name": "ipython",
    "version": 3
   },
   "file_extension": ".py",
   "mimetype": "text/x-python",
   "name": "python",
   "nbconvert_exporter": "python",
   "pygments_lexer": "ipython3",
   "version": "3.8.5"
  }
 },
 "nbformat": 4,
 "nbformat_minor": 4
}
